{
 "cells": [
  {
   "cell_type": "markdown",
   "id": "412e8db1",
   "metadata": {},
   "source": [
    "## QR Code or Bar Code\n",
    "- To create QR Code visit: https://www.qrstuff.com/\n",
    "- We need to install: !pip install pyzbar\n",
    "- But it makes so much problems, so we better use it on google colab"
   ]
  },
  {
   "cell_type": "code",
   "execution_count": 1,
   "id": "a5b2d79a",
   "metadata": {},
   "outputs": [
    {
     "name": "stdout",
     "output_type": "stream",
     "text": [
      "^C\n"
     ]
    }
   ],
   "source": [
    "import pyzbar.pyzbar as pyzbar\n",
    "import cv2\n",
    "\n",
    "\n",
    "img = cv2.imread('Images/qr_code.png')\n",
    "\n",
    "decodedObjects = pyzbar.decode(img)\n",
    "\n",
    "for obj in decodedObjects:\n",
    "    print(obj)\n",
    "    print('*'*50)\n",
    "    print('Type:', obj.type)\n",
    "    print('Data:', obj.data)"
   ]
  }
 ],
 "metadata": {
  "kernelspec": {
   "display_name": "tf_gpu",
   "language": "python",
   "name": "tf_gpu"
  },
  "language_info": {
   "codemirror_mode": {
    "name": "ipython",
    "version": 3
   },
   "file_extension": ".py",
   "mimetype": "text/x-python",
   "name": "python",
   "nbconvert_exporter": "python",
   "pygments_lexer": "ipython3",
   "version": "3.9.7"
  },
  "toc": {
   "base_numbering": 1,
   "nav_menu": {},
   "number_sections": true,
   "sideBar": true,
   "skip_h1_title": false,
   "title_cell": "Table of Contents",
   "title_sidebar": "Contents",
   "toc_cell": false,
   "toc_position": {},
   "toc_section_display": true,
   "toc_window_display": false
  },
  "varInspector": {
   "cols": {
    "lenName": 16,
    "lenType": 16,
    "lenVar": 40
   },
   "kernels_config": {
    "python": {
     "delete_cmd_postfix": "",
     "delete_cmd_prefix": "del ",
     "library": "var_list.py",
     "varRefreshCmd": "print(var_dic_list())"
    },
    "r": {
     "delete_cmd_postfix": ") ",
     "delete_cmd_prefix": "rm(",
     "library": "var_list.r",
     "varRefreshCmd": "cat(var_dic_list()) "
    }
   },
   "types_to_exclude": [
    "module",
    "function",
    "builtin_function_or_method",
    "instance",
    "_Feature"
   ],
   "window_display": false
  }
 },
 "nbformat": 4,
 "nbformat_minor": 5
}
