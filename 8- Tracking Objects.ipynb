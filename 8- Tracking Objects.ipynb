{
 "cells": [
  {
   "cell_type": "code",
   "execution_count": 1,
   "id": "53810c88",
   "metadata": {},
   "outputs": [
    {
     "data": {
      "text/plain": [
       "'4.5.5'"
      ]
     },
     "execution_count": 1,
     "metadata": {},
     "output_type": "execute_result"
    }
   ],
   "source": [
    "import cv2\n",
    "import imutils\n",
    "\n",
    "cv2.__version__"
   ]
  },
  {
   "cell_type": "markdown",
   "id": "fc93562b",
   "metadata": {},
   "source": [
    "**BOOSTING Tracker:**<br>\n",
    "Based on the same algorithm used to power the machine learning behind Haar cascades (AdaBoost), but like Haar cascades, is over a decade old. This tracker is slow and doesn’t work very well. Interesting only for legacy reasons and comparing other algorithms. (minimum OpenCV 3.0.0)<br>\n",
    "\n",
    "**MIL Tracker:**<br>\n",
    "Better accuracy than BOOSTING tracker but does a poor job of reporting failure. (minimum OpenCV 3.0.0)<br>\n",
    "\n",
    "**KCF Tracker:**<br>\n",
    "Kernelized Correlation Filters. Faster than BOOSTING and MIL. Similar to MIL and KCF, does not handle full occlusion well. (minimum OpenCV 3.1.0)<br>\n",
    "\n",
    "**CSRT Tracker:**<br>\n",
    "Discriminative Correlation Filter (with Channel and Spatial Reliability). Tends to be more accurate than KCF but slightly slower. (minimum OpenCV 3.4.2)<br>\n",
    "\n",
    "**MedianFlow Tracker:**<br>\n",
    "Does a nice job reporting failures; however, if there is too large of a jump in motion, such as fast moving objects, or objects that change quickly in their appearance, the model will fail. (minimum OpenCV 3.0.0)<br>\n",
    "\n",
    "**TLD Tracker:**<br>\n",
    "I’m not sure if there is a problem with the OpenCV implementation of the TLD tracker or the actual algorithm itself, but the TLD tracker was incredibly prone to false-positives. I do not recommend using this OpenCV object tracker. (minimum OpenCV 3.0.0)<br>\n",
    "\n",
    "**MOSSE Tracker:**<br>\n",
    "Very, very fast. Not as accurate as CSRT or KCF but a good choice if you need pure speed. (minimum OpenCV 3.4.1)<br>\n",
    "\n",
    "**GOTURN Tracker:**<br>\n",
    "The only deep learning-based object detector included in OpenCV. It requires additional model files to run (minimum OpenCV 3.2.0)"
   ]
  },
  {
   "cell_type": "markdown",
   "id": "3f63f14d",
   "metadata": {},
   "source": [
    "**My personal suggestion is to:**\n",
    "\n",
    "Use ***CSRT*** when you need higher object tracking accuracy and can tolerate slower FPS throughput <br>\n",
    "Use ***KCF*** when you need faster FPS throughput but can handle slightly lower object tracking accuracy<br>\n",
    "Use ***MOSSE*** when you need pure speed"
   ]
  },
  {
   "cell_type": "markdown",
   "id": "8eb98f8f",
   "metadata": {},
   "source": [
    "## Tracking Single Object"
   ]
  },
  {
   "cell_type": "markdown",
   "id": "b92f625e",
   "metadata": {},
   "source": [
    "### Selecting Tracker"
   ]
  },
  {
   "cell_type": "code",
   "execution_count": 9,
   "id": "7367f2f7",
   "metadata": {},
   "outputs": [
    {
     "data": {
      "text/plain": [
       "<TrackerCSRT 0000025C131F2E50>"
      ]
     },
     "execution_count": 9,
     "metadata": {},
     "output_type": "execute_result"
    }
   ],
   "source": [
    "# Using CSRT, KCF and MOSSE\n",
    "TrackerDict = {\"csrt\" : cv2.TrackerCSRT_create,\n",
    "               \"kcf\"  : cv2.TrackerKCF_create,\n",
    "               # \"mosse\" : cv2.TrackerMOSSE_create}\n",
    "              }\n",
    "\n",
    "tracker = TrackerDict['csrt']()\n",
    "\n",
    "tracker"
   ]
  },
  {
   "cell_type": "markdown",
   "id": "e9923da4",
   "metadata": {},
   "source": [
    "### Tracking"
   ]
  },
  {
   "cell_type": "code",
   "execution_count": 13,
   "id": "a0f75cde",
   "metadata": {},
   "outputs": [
    {
     "name": "stdout",
     "output_type": "stream",
     "text": [
      "Press S to select an object using Mouse\n"
     ]
    }
   ],
   "source": [
    "cap = cv2.VideoCapture(0)\n",
    "ROI = None\n",
    "print(\"Press S to select an object using Mouse\")\n",
    "\n",
    "\n",
    "while(True):\n",
    "    ret, frame = cap.read()\n",
    "    \n",
    "    if ret == True:\n",
    "        frame = imutils.resize(frame, width = 600)\n",
    "        \n",
    "        # When we selected an object to track\n",
    "        if ROI is not None:\n",
    "            \n",
    "            (success, box) = tracker.update(frame)\n",
    "            if success:\n",
    "                (x,y,w,h) = [int(a) for a in box]\n",
    "                cv2.rectangle(frame, (x,y), (x+w, y+h), (100,255,0), 2)\n",
    "            \n",
    "        cv2.imshow('Frame', frame)\n",
    "        \n",
    "        key = cv2.waitKey(30)\n",
    "        # Press ('s') to select an object\n",
    "        if key == ord('s'):\n",
    "            ROI = cv2.selectROI('Frame', frame)\n",
    "            tracker.init(frame,ROI)\n",
    "            \n",
    "        # Quit\n",
    "        if key == ord('q'):\n",
    "            break\n",
    "    else: \n",
    "        break\n",
    "        \n",
    "            \n",
    "cap.release()\n",
    "cv2.destroyAllWindows()"
   ]
  },
  {
   "cell_type": "markdown",
   "id": "63cdf8f8",
   "metadata": {},
   "source": [
    "## Multi-object Tracking"
   ]
  },
  {
   "cell_type": "code",
   "execution_count": 4,
   "id": "30a13e1a",
   "metadata": {},
   "outputs": [
    {
     "ename": "AttributeError",
     "evalue": "module 'cv2' has no attribute 'MultiTracker_create'",
     "output_type": "error",
     "traceback": [
      "\u001b[1;31m---------------------------------------------------------------------------\u001b[0m",
      "\u001b[1;31mAttributeError\u001b[0m                            Traceback (most recent call last)",
      "\u001b[1;32m~\\AppData\\Local\\Temp/ipykernel_16520/1227490735.py\u001b[0m in \u001b[0;36m<module>\u001b[1;34m\u001b[0m\n\u001b[0;32m      9\u001b[0m \u001b[1;31m# Uninstall opencv\u001b[0m\u001b[1;33m\u001b[0m\u001b[1;33m\u001b[0m\u001b[0m\n\u001b[0;32m     10\u001b[0m \u001b[1;31m# pip install opencv-contrib-python~= 3.4.4.19\u001b[0m\u001b[1;33m\u001b[0m\u001b[1;33m\u001b[0m\u001b[0m\n\u001b[1;32m---> 11\u001b[1;33m \u001b[0mtrackers\u001b[0m \u001b[1;33m=\u001b[0m \u001b[0mcv2\u001b[0m\u001b[1;33m.\u001b[0m\u001b[0mMultiTracker_create\u001b[0m\u001b[1;33m(\u001b[0m\u001b[1;33m)\u001b[0m\u001b[1;33m\u001b[0m\u001b[1;33m\u001b[0m\u001b[0m\n\u001b[0m",
      "\u001b[1;31mAttributeError\u001b[0m: module 'cv2' has no attribute 'MultiTracker_create'"
     ]
    }
   ],
   "source": [
    "# Using CSRT, KCF and MOSSE\n",
    "TrackerDict = {\"csrt\" : cv2.TrackerCSRT_create,\n",
    "               \"kcf\"  : cv2.TrackerKCF_create,\n",
    "               # \"mosse\" : cv2.TrackerMOSSE_create}\n",
    "              }\n",
    "\n",
    "\n",
    "# To run it!\n",
    "# Uninstall opencv\n",
    "# pip install opencv-contrib-python~= 3.4.4.19\n",
    "trackers = cv2.MultiTracker_create()"
   ]
  },
  {
   "cell_type": "code",
   "execution_count": 5,
   "id": "e9d9581c",
   "metadata": {},
   "outputs": [],
   "source": [
    "cap = cv2.VideoCapture(0)\n",
    "ROI = None\n",
    "\n",
    "while(True):\n",
    "    ret, frame = cap.read()\n",
    "    \n",
    "    if ret == True:\n",
    "        frame = imutils.resize(frame, width = 600)\n",
    "        \n",
    "        # When we selected an object to track\n",
    "        if ROI is not None:\n",
    "            (success, boxes) = trackers.update(frame)\n",
    "            if success:\n",
    "                for box in boxes:\n",
    "                    (x,y,w,h) = [int(a) for a in box]\n",
    "                    cv2.rectangle(frame, (x,y), (x+w, y+h), (100,255,0), 2)\n",
    "            \n",
    "        cv2.imshow('Frame', frame)\n",
    "        \n",
    "        key = cv2.waitKey(30)\n",
    "        \n",
    "        # Press ('s') to select an object\n",
    "        if key == ord('s'):\n",
    "            # Selecting 2 objects(multi tracking)\n",
    "            k = 2\n",
    "            for i in range(k):\n",
    "                ROI = cv2.selectROI('Frame', frame)\n",
    "                tracker = TrDict['csrt']()\n",
    "                trackers.add(tracker, frame, ROI)\n",
    "\n",
    "            \n",
    "        # Quit\n",
    "        if key == ord('q'):\n",
    "            break\n",
    "    else: \n",
    "        break\n",
    "        \n",
    "            \n",
    "cap.release()\n",
    "cv2.destroyAllWindows()"
   ]
  }
 ],
 "metadata": {
  "kernelspec": {
   "display_name": "tf_gpu",
   "language": "python",
   "name": "tf_gpu"
  },
  "language_info": {
   "codemirror_mode": {
    "name": "ipython",
    "version": 3
   },
   "file_extension": ".py",
   "mimetype": "text/x-python",
   "name": "python",
   "nbconvert_exporter": "python",
   "pygments_lexer": "ipython3",
   "version": "3.9.7"
  },
  "toc": {
   "base_numbering": 1,
   "nav_menu": {},
   "number_sections": true,
   "sideBar": true,
   "skip_h1_title": false,
   "title_cell": "Table of Contents",
   "title_sidebar": "Contents",
   "toc_cell": false,
   "toc_position": {},
   "toc_section_display": true,
   "toc_window_display": false
  },
  "varInspector": {
   "cols": {
    "lenName": 16,
    "lenType": 16,
    "lenVar": 40
   },
   "kernels_config": {
    "python": {
     "delete_cmd_postfix": "",
     "delete_cmd_prefix": "del ",
     "library": "var_list.py",
     "varRefreshCmd": "print(var_dic_list())"
    },
    "r": {
     "delete_cmd_postfix": ") ",
     "delete_cmd_prefix": "rm(",
     "library": "var_list.r",
     "varRefreshCmd": "cat(var_dic_list()) "
    }
   },
   "types_to_exclude": [
    "module",
    "function",
    "builtin_function_or_method",
    "instance",
    "_Feature"
   ],
   "window_display": false
  }
 },
 "nbformat": 4,
 "nbformat_minor": 5
}
