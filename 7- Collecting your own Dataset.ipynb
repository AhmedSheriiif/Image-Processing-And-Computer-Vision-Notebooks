{
 "cells": [
  {
   "cell_type": "markdown",
   "id": "c2f16654",
   "metadata": {},
   "source": [
    "## Using OPENCV\n",
    "- Collecting images from a Video"
   ]
  },
  {
   "cell_type": "code",
   "execution_count": null,
   "id": "f8e4d954",
   "metadata": {},
   "outputs": [],
   "source": [
    "import cv2\n",
    "import time\n",
    "import os"
   ]
  },
  {
   "cell_type": "code",
   "execution_count": null,
   "id": "3c619a12",
   "metadata": {},
   "outputs": [],
   "source": [
    "cap = cv2.VideoCapture(0)  # Camera Laptop\n",
    "start = time.time()\n",
    "\n",
    "cap_frame = 0\n",
    "dir_name = \"Datasets/Collected_Dataset\"\n",
    "number_image_captured = 20\n",
    "\n",
    "if os.path.exists(dir_name):\n",
    "        print(\"Folder Exists\")\n",
    "else:\n",
    "    os.mkdir(dir_name)\n",
    "        \n",
    "img_captured = 0\n",
    "capture_image = False   # To Press a button to capture\n",
    "while True:\n",
    "    ret, frame = cap.read()\n",
    "    if ret == True:\n",
    "        \n",
    "        if capture_image == True:\n",
    "            cv2.imwrite(\"{}/frame-{}.png\".format(dir_name, img_captured), frame)\n",
    "            cv2.putText(frame, 'Capturing', (50,70), cv2.FONT_HERSHEY_SIMPLEX, 1, (255,0,0), 1)\n",
    "            img_captured+=1\n",
    "            capture_image = False\n",
    "        \n",
    "        else:\n",
    "            cv2.putText(frame, 'Not Capturing', (50,70), cv2.FONT_HERSHEY_SIMPLEX, 1, (0,0,255), 1)\n",
    "\n",
    "        \n",
    "        # if we press 'c' on keyboard, it will save a frame\n",
    "        if cv2.waitKey(1) == ord('c'):\n",
    "            capture_image = True\n",
    "            \n",
    "        # Showing Frames\n",
    "        cv2.imshow(\"Frame\", frame)\n",
    "        \n",
    "        if cv2.waitKey(1) == ord('q'):\n",
    "            break\n",
    "            \n",
    "cap.release()\n",
    "cv2.destroyAllWindows()"
   ]
  },
  {
   "cell_type": "markdown",
   "id": "c7aa3767",
   "metadata": {},
   "source": [
    "## Using Selenium\n",
    "### Searching in Goolge Images using keyword"
   ]
  },
  {
   "cell_type": "code",
   "execution_count": 1,
   "id": "9aabc260",
   "metadata": {},
   "outputs": [],
   "source": [
    "import os\n",
    "from selenium import webdriver\n",
    "from selenium.webdriver.common.keys import Keys\n",
    "from selenium.webdriver.common.by import By\n",
    "import time\n",
    "import urllib\n",
    "import cv2\n"
   ]
  },
  {
   "cell_type": "code",
   "execution_count": null,
   "id": "ace29fb0",
   "metadata": {},
   "outputs": [],
   "source": [
    "chrome_options = webdriver.ChromeOptions()\n",
    "# To remove this Notification (\"This Browser is automated by Driver\")\n",
    "chrome_options.add_experimental_option(\"excludeSwitches\", ['enable-automation'])\n",
    "\n",
    "# Setup Chrome\n",
    "driver = webdriver.Chrome(executable_path=\"DRIVER PATH\", options=chrome_options)\n",
    "\n",
    "# Dataset Creating\n",
    "dataset_dir = \"dataset_download\"\n",
    "\n",
    "try:\n",
    "    os.mkdir(dataset_dir)\n",
    "except: \n",
    "    pass\n",
    "\n",
    "# Keyword to Search\n",
    "keyword = \"lion\""
   ]
  },
  {
   "cell_type": "markdown",
   "id": "909269e1",
   "metadata": {},
   "source": [
    "#### Start the Script of Seleniium"
   ]
  },
  {
   "cell_type": "code",
   "execution_count": null,
   "id": "6494f546",
   "metadata": {},
   "outputs": [],
   "source": [
    "found_links = []\n",
    "last_height = 0\n",
    "\n",
    "# Going to Search Page\n",
    "driver.get(\"GOOGLE IMAGE SEARCH PAGE\")\n",
    "time.sleep(2)\n",
    "\n",
    "# Searching for all images boxes\n",
    "body = driver.find_element_by_xpath(\"XPATH\")\n",
    "time.sleep(2)\n",
    "\n",
    "# Looping all over the Page (Scrolling down)\n",
    "while True:\n",
    "    # Getting Images\n",
    "    images = body.find_elements_by_xpath(\"IMAGE XPATH\")\n",
    "    \n",
    "    for img in images:\n",
    "        try:\n",
    "            img_link = img.find_element_by_xpath(\"..\").get_attribute('src')\n",
    "            \n",
    "            # To avoid Duplicates\n",
    "            if img_link not in found_links:\n",
    "                found_links.append(img_link)\n",
    "        except: \n",
    "            # To know when an error occurs\n",
    "            print('-', end='')\n",
    "    \n",
    "    # Scroll till the end\n",
    "    last_height = driver.execute_script(\"return document.body.scrollHeight\")\n",
    "    # Scroll down\n",
    "    driver.execute_script(\"window.scrollTo(0, document.body.scrollHeight);\")\n",
    "    time.sleep(3)\n",
    "    \n",
    "    current_height = driver.execute_script(\"return document.body.scrollHeight\")\n",
    "    if current_height == last_height:\n",
    "        break\n",
    "    else:\n",
    "        last_height = current_height\n",
    "    "
   ]
  },
  {
   "cell_type": "markdown",
   "id": "8d6eef18",
   "metadata": {},
   "source": [
    "#### To download Images"
   ]
  },
  {
   "cell_type": "code",
   "execution_count": null,
   "id": "3b9aac6c",
   "metadata": {},
   "outputs": [],
   "source": [
    "def download_image(url, filename):\n",
    "    res = urllib.request.urlopen(url)\n",
    "    output = open(filname, \"wb\")\n",
    "    output.write(res.read())\n",
    "    output.close()"
   ]
  },
  {
   "cell_type": "code",
   "execution_count": null,
   "id": "46f5c345",
   "metadata": {},
   "outputs": [],
   "source": [
    "for link in found_links:\n",
    "    filename = \"DIRECTORY/sdfsdfs\" + number\n",
    "    download_image(link, filename)"
   ]
  }
 ],
 "metadata": {
  "kernelspec": {
   "display_name": "tf_gpu",
   "language": "python",
   "name": "tf_gpu"
  },
  "language_info": {
   "codemirror_mode": {
    "name": "ipython",
    "version": 3
   },
   "file_extension": ".py",
   "mimetype": "text/x-python",
   "name": "python",
   "nbconvert_exporter": "python",
   "pygments_lexer": "ipython3",
   "version": "3.9.7"
  },
  "toc": {
   "base_numbering": 1,
   "nav_menu": {},
   "number_sections": true,
   "sideBar": true,
   "skip_h1_title": false,
   "title_cell": "Table of Contents",
   "title_sidebar": "Contents",
   "toc_cell": false,
   "toc_position": {},
   "toc_section_display": true,
   "toc_window_display": false
  },
  "varInspector": {
   "cols": {
    "lenName": 16,
    "lenType": 16,
    "lenVar": 40
   },
   "kernels_config": {
    "python": {
     "delete_cmd_postfix": "",
     "delete_cmd_prefix": "del ",
     "library": "var_list.py",
     "varRefreshCmd": "print(var_dic_list())"
    },
    "r": {
     "delete_cmd_postfix": ") ",
     "delete_cmd_prefix": "rm(",
     "library": "var_list.r",
     "varRefreshCmd": "cat(var_dic_list()) "
    }
   },
   "types_to_exclude": [
    "module",
    "function",
    "builtin_function_or_method",
    "instance",
    "_Feature"
   ],
   "window_display": false
  }
 },
 "nbformat": 4,
 "nbformat_minor": 5
}
